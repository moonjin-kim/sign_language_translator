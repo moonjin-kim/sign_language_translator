{
 "cells": [
  {
   "cell_type": "code",
   "execution_count": 17,
   "id": "8050b421",
   "metadata": {},
   "outputs": [],
   "source": [
    "import cv2\n",
    "import numpy as np\n",
    "import os\n",
    "from tensorflow import keras\n",
    "import time\n",
    "import mediapipe as mp\n",
    "import csv\n",
    "import pandas as pd\n",
    "import seaborn as sns\n",
    "from matplotlib import patches\n",
    "\n",
    "from tensorflow.keras.models import Sequential\n",
    "from tensorflow.keras.layers import LSTM, Dense\n",
    "from tensorflow.keras.callbacks import TensorBoard\n",
    "from tensorflow.keras.layers import Input, Dense, LSTM, Bidirectional\n",
    "from tensorflow import keras\n",
    "import tensorflow as tf\n",
    "from tensorflow.keras import layers\n",
    "from tensorflow.keras import optimizers\n",
    "import time\n",
    "import datetime\n",
    "import timeit\n",
    "\n",
    "from tensorflow import keras \n",
    "from PIL import ImageFont ,ImageDraw ,Image\n",
    "\n",
    "%matplotlib inline"
   ]
  },
  {
   "cell_type": "code",
   "execution_count": 18,
   "id": "53e51401",
   "metadata": {},
   "outputs": [],
   "source": [
    "classes = ['자극', '당뇨병', '면역', '감기', '변비', '붕대', '설사', '성병', '소화제', '수면제',\n",
    "       '회복', '입원', '진단서', '치료', '퇴원', '빈혈', '화상', '술', '커피', '의사', '간호사',\n",
    "       '금식', '금연', '금주', '식도염', '숨차다', '통증', '가렵다', '답답', '건강', '불안',\n",
    "       '검사', '팔', '아프다', '춥다', '머리', '충혈', '왼쪽', '오른쪽', '떨다', '몸', '전염',\n",
    "       '병원', '병', '상처', '병원', '붓다', '피곤', '중독', '치매', '환자', '충격', '노화',\n",
    "       '가루약', '물약', '약효', '무기력', '체온']"
   ]
  },
  {
   "cell_type": "code",
   "execution_count": 19,
   "id": "bfa14267",
   "metadata": {},
   "outputs": [],
   "source": [
    "mp_holistic = mp.solutions.holistic\n",
    "mp_drawing = mp.solutions.drawing_utils"
   ]
  },
  {
   "cell_type": "code",
   "execution_count": 20,
   "id": "35d30257",
   "metadata": {},
   "outputs": [],
   "source": [
    "#랜드마크 그려주기\n",
    "def draw_landmarks(image, results):\n",
    "    mp_drawing.draw_landmarks(image, results.pose_landmarks, mp_holistic.POSE_CONNECTIONS) #POSE 랜드마크\n",
    "    mp_drawing.draw_landmarks(image, results.left_hand_landmarks, mp_holistic.HAND_CONNECTIONS) #왼손 랜드마크\n",
    "    mp_drawing.draw_landmarks(image, results.right_hand_landmarks, mp_holistic.HAND_CONNECTIONS) #오른손 랜드마크"
   ]
  },
  {
   "cell_type": "code",
   "execution_count": 21,
   "id": "f45300e4",
   "metadata": {},
   "outputs": [],
   "source": [
    "##keypoint 좌표 반화\n",
    "def extract_keypoints(results):\n",
    "    pose = np.array([[res.x,res.y,res.z,res.visibility] for res in results.pose_landmarks.landmark]).flatten() if results.pose_landmarks else np.zeros(132)\n",
    "    lh = np.array([[res.x,res.y,res.z] for res in results.left_hand_landmarks.landmark]).flatten() if results.left_hand_landmarks else np.zeros(63)\n",
    "    rh = np.array([[res.x,res.y,res.z] for res in results.right_hand_landmarks.landmark]).flatten() if results.right_hand_landmarks else np.zeros(63)\n",
    "    return np.concatenate([pose, lh, rh])\n",
    "\n",
    "def extract_keypoints_pose(result):\n",
    "    pose = np.array([[res.x,res.y,res.z,res.visibility] for res in results.pose_landmarks.landmark]).flatten() if results.pose_landmarks else np.zeros(132)\n",
    "    return np.concatenate([pose])\n",
    "\n",
    "def extract_keypoints_hand(result):\n",
    "    lh = np.array([[res.x,res.y,res.z] for res in results.left_hand_landmarks.landmark]).flatten() if results.left_hand_landmarks else np.zeros(63)\n",
    "    rh = np.array([[res.x,res.y,res.z] for res in results.right_hand_landmarks.landmark]).flatten() if results.right_hand_landmarks else np.zeros(63)\n",
    "    return np.concatenate([lh, rh])   "
   ]
  },
  {
   "cell_type": "code",
   "execution_count": 22,
   "id": "70545cb4",
   "metadata": {},
   "outputs": [],
   "source": [
    "## mediapipe로 관절 포인트 표시\n",
    "def mediapipe_detection(image,model):\n",
    "    image = cv2.cvtColor(image, cv2.COLOR_BGR2RGB)\n",
    "    image.flags.writeable = False\n",
    "    results = model.process(image)\n",
    "    image.flags.writeable = True\n",
    "    image = cv2.cvtColor(image,cv2.COLOR_RGB2BGR)\n",
    "    return image, results"
   ]
  },
  {
   "cell_type": "code",
   "execution_count": 23,
   "id": "a0ebbc85",
   "metadata": {},
   "outputs": [],
   "source": [
    "sequence_lenght = 30"
   ]
  },
  {
   "cell_type": "code",
   "execution_count": 24,
   "id": "55aee774",
   "metadata": {},
   "outputs": [],
   "source": [
    "label_map = {label:num for num, label in enumerate(classes)}"
   ]
  },
  {
   "cell_type": "code",
   "execution_count": 25,
   "id": "7ea0dd74",
   "metadata": {},
   "outputs": [
    {
     "data": {
      "text/plain": [
       "{'자극': 0,\n",
       " '당뇨병': 1,\n",
       " '면역': 2,\n",
       " '감기': 3,\n",
       " '변비': 4,\n",
       " '붕대': 5,\n",
       " '설사': 6,\n",
       " '성병': 7,\n",
       " '소화제': 8,\n",
       " '수면제': 9,\n",
       " '회복': 10,\n",
       " '입원': 11,\n",
       " '진단서': 12,\n",
       " '치료': 13,\n",
       " '퇴원': 14,\n",
       " '빈혈': 15,\n",
       " '화상': 16,\n",
       " '술': 17,\n",
       " '커피': 18,\n",
       " '의사': 19,\n",
       " '간호사': 20,\n",
       " '금식': 21,\n",
       " '금연': 22,\n",
       " '금주': 23,\n",
       " '식도염': 24,\n",
       " '숨차다': 25,\n",
       " '통증': 26,\n",
       " '가렵다': 27,\n",
       " '답답': 28,\n",
       " '건강': 29,\n",
       " '불안': 30,\n",
       " '검사': 31,\n",
       " '팔': 32,\n",
       " '아프다': 33,\n",
       " '춥다': 34,\n",
       " '머리': 35,\n",
       " '충혈': 36,\n",
       " '왼쪽': 37,\n",
       " '오른쪽': 38,\n",
       " '떨다': 39,\n",
       " '몸': 40,\n",
       " '전염': 41,\n",
       " '병원': 45,\n",
       " '병': 43,\n",
       " '상처': 44,\n",
       " '붓다': 46,\n",
       " '피곤': 47,\n",
       " '중독': 48,\n",
       " '치매': 49,\n",
       " '환자': 50,\n",
       " '충격': 51,\n",
       " '노화': 52,\n",
       " '가루약': 53,\n",
       " '물약': 54,\n",
       " '약효': 55,\n",
       " '무기력': 56,\n",
       " '체온': 57}"
      ]
     },
     "execution_count": 25,
     "metadata": {},
     "output_type": "execute_result"
    }
   ],
   "source": [
    "label_map"
   ]
  },
  {
   "cell_type": "code",
   "execution_count": 26,
   "id": "f0a742ad",
   "metadata": {},
   "outputs": [],
   "source": [
    "new_model = tf.keras.models.load_model('./완성 모델/단어58개.h5')"
   ]
  },
  {
   "cell_type": "code",
   "execution_count": 28,
   "id": "5d05aa38",
   "metadata": {
    "scrolled": true
   },
   "outputs": [
    {
     "name": "stdout",
     "output_type": "stream",
     "text": [
      "오른쪽\n",
      "0.039321445\n",
      "오른쪽\n",
      "0.039321445\n",
      "오른쪽\n",
      "0.9870036\n",
      "팔\n",
      "0.8186332\n",
      "팔\n",
      "0.820282\n",
      "체온\n",
      "0.89004254\n",
      "팔\n",
      "0.9196147\n",
      "왼쪽\n",
      "0.9965804\n",
      "오른쪽\n",
      "0.5313175\n",
      "오른쪽\n",
      "0.9831707\n",
      "왼쪽\n",
      "0.98972964\n",
      "가렵다\n",
      "0.76533467\n",
      "왼쪽\n",
      "0.65800595\n",
      "왼쪽\n",
      "0.50050074\n"
     ]
    }
   ],
   "source": [
    "sequence = []\n",
    "sentence = []\n",
    "threshold = 0.7\n",
    "i = 2\n",
    "cap = cv2.VideoCapture(0)\n",
    "with mp_holistic.Holistic(min_detection_confidence=0.5, min_tracking_confidence=0.5) as holistic:\n",
    "    while cap.isOpened():\n",
    "\n",
    "        # feed 읽기\n",
    "        ret, frame = cap.read()\n",
    "        start_t = timeit.default_timer()\n",
    "        img, results = mediapipe_detection(frame, holistic)\n",
    "        \n",
    "        #랜드마크 그리기\n",
    "        draw_landmarks(img,results)\n",
    "        \n",
    "        \n",
    "#       keypoints = extract_keypoints_pose(result)\n",
    "        \n",
    "        keypoint = extract_keypoints_pose(results)\n",
    "        #예측\n",
    "#         print(keypoint[65])\n",
    "        if keypoint[65]<0.8 or keypoint[61]<0.8:\n",
    "            keypoints = extract_keypoints(results)\n",
    "            keypoints = np.concatenate([keypoints[0:99], keypoints[132:258]])\n",
    "            sequence.insert(0,keypoints)\n",
    "            sequence.insert(0,keypoints)\n",
    "            sequence = sequence[:30]\n",
    "            if i%30 == 0:\n",
    "                res = new_model.predict(np.expand_dims(sequence, axis=0))[0]\n",
    "                print(classes[np.argmax(res)])\n",
    "                print(res[np.argmax(res)])\n",
    "                if res[np.argmax(res)] > threshold:\n",
    "                    sentence.append(classes[np.argmax(res)])\n",
    "            \n",
    "        else:\n",
    "#             print(i)\n",
    "            i=0\n",
    "            sequence=[]\n",
    "        if len(sentence) > 5:\n",
    "            sentence = sentence[-5:]\n",
    "        fontpath = \"fonts/gulim.ttc\"\n",
    "        font = ImageFont.truetype(fontpath, 20)\n",
    "        img_pil = Image.fromarray(img)\n",
    "        draw = ImageDraw.Draw(img_pil)\n",
    "        \n",
    "        cv2.rectangle(img,(0,0),(640,40),(245,117,16),-1)\n",
    "        #cv2.putText(img, ''.join(sentence),,\n",
    "                   ##cv2.FONT_HERSHEY_SIMPLEX,1,(255,255,255,0),2,cv2.LINE_AA)\n",
    "        draw.text((3,30),  ''.join(sentence), font=font, fill=(0,0,0,0))\n",
    "        draw.text((450,30),  str(i), font=font, fill=(0,255,0,0))\n",
    "        img = np.array(img_pil)\n",
    "        terminate_t = timeit.default_timer()\n",
    "        FPS = int(1./(terminate_t - start_t ))\n",
    "        #화면에 보여주기\n",
    "        cv2.imshow(\"OpenCV Feed\",img)\n",
    "        #화면 종료\n",
    "        i+=2\n",
    "        if cv2.waitKey(10) & 0xFF == ord('q'):\n",
    "                    break\n",
    "    cap.release()\n",
    "    cv2.destroyAllWindows()"
   ]
  },
  {
   "cell_type": "code",
   "execution_count": 12,
   "id": "c12a9a32",
   "metadata": {},
   "outputs": [
    {
     "data": {
      "text/plain": [
       "(2, 225)"
      ]
     },
     "execution_count": 12,
     "metadata": {},
     "output_type": "execute_result"
    }
   ],
   "source": [
    "np.shape(sequence)"
   ]
  },
  {
   "cell_type": "code",
   "execution_count": 13,
   "id": "e6239fd0",
   "metadata": {},
   "outputs": [],
   "source": [
    "import numpy as np"
   ]
  },
  {
   "cell_type": "code",
   "execution_count": 14,
   "id": "8979e61c",
   "metadata": {},
   "outputs": [],
   "source": [
    "data = np.arange(0,100)"
   ]
  },
  {
   "cell_type": "code",
   "execution_count": 15,
   "id": "6e349b20",
   "metadata": {},
   "outputs": [
    {
     "data": {
      "text/plain": [
       "array([], dtype=int32)"
      ]
     },
     "execution_count": 15,
     "metadata": {},
     "output_type": "execute_result"
    }
   ],
   "source": [
    "data[100:130]"
   ]
  },
  {
   "cell_type": "code",
   "execution_count": 16,
   "id": "576cc95a",
   "metadata": {},
   "outputs": [
    {
     "data": {
      "text/plain": [
       "array([30, 31, 32, 33, 34, 35, 36, 37, 38, 39, 40, 41, 42, 43, 44, 45, 46,\n",
       "       47, 48, 49, 50, 51, 52, 53, 54, 55, 56, 57, 58, 59, 60, 61, 62, 63,\n",
       "       64, 65, 66, 67, 68, 69, 70, 71, 72, 73, 74, 75, 76, 77, 78, 79, 80,\n",
       "       81, 82, 83, 84, 85, 86, 87, 88, 89, 90, 91, 92, 93, 94, 95, 96, 97,\n",
       "       98, 99])"
      ]
     },
     "execution_count": 16,
     "metadata": {},
     "output_type": "execute_result"
    }
   ],
   "source": [
    "data[30:]"
   ]
  },
  {
   "cell_type": "code",
   "execution_count": null,
   "id": "c66af23d",
   "metadata": {},
   "outputs": [],
   "source": []
  }
 ],
 "metadata": {
  "kernelspec": {
   "display_name": "Python 3 (ipykernel)",
   "language": "python",
   "name": "python3"
  },
  "language_info": {
   "codemirror_mode": {
    "name": "ipython",
    "version": 3
   },
   "file_extension": ".py",
   "mimetype": "text/x-python",
   "name": "python",
   "nbconvert_exporter": "python",
   "pygments_lexer": "ipython3",
   "version": "3.8.8"
  }
 },
 "nbformat": 4,
 "nbformat_minor": 5
}
