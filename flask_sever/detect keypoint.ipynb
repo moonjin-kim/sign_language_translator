{
 "cells": [
  {
   "cell_type": "code",
   "execution_count": 3,
   "id": "b6eb03f9",
   "metadata": {},
   "outputs": [
    {
     "name": "stdout",
     "output_type": "stream",
     "text": [
      "The tensorboard extension is already loaded. To reload it, use:\n",
      "  %reload_ext tensorboard\n"
     ]
    }
   ],
   "source": [
    "import cv2\n",
    "import numpy as np\n",
    "import os\n",
    "from tensorflow import keras\n",
    "from matplotlib import pyplot as plt\n",
    "import time\n",
    "import mediapipe as mp\n",
    "import csv\n",
    "import pandas as pd\n",
    "%load_ext tensorboard\n",
    "\n",
    "mp_holistic = mp.solutions.holistic\n",
    "mp_drawing = mp.solutions.drawing_utils\n",
    "\n",
    "def mediapipe_detection(image,model):\n",
    "    image = cv2.cvtColor(image, cv2.COLOR_BGR2RGB)\n",
    "    image.flags.writeable = False\n",
    "    results = model.process(image)\n",
    "    image.flags.writeable = True\n",
    "    image = cv2.cvtColor(image,cv2.COLOR_RGB2BGR)\n",
    "    return image, results\n",
    "\n",
    "#랜드마크 그려주기\n",
    "def draw_landmarks(image, results):\n",
    "    mp_drawing.draw_landmarks(image, results.pose_landmarks, mp_holistic.POSE_CONNECTIONS) #POSE 랜드마크\n",
    "    mp_drawing.draw_landmarks(image, results.left_hand_landmarks, mp_holistic.HAND_CONNECTIONS) #왼손 랜드마크\n",
    "    mp_drawing.draw_landmarks(image, results.right_hand_landmarks, mp_holistic.HAND_CONNECTIONS) #오른손 랜드마크\n",
    "\n",
    "def extract_keypoints_pose(result):\n",
    "    pose = np.array([[res.x,res.y,res.z,res.visibility] for res in results.pose_landmarks.landmark]).flatten() if results.pose_landmarks else np.zeros(132)\n",
    "    return np.concatenate([pose])\n",
    "\n",
    "def extract_keypoints_hand(result):\n",
    "    lh = np.array([[res.x,res.y,res.z] for res in results.left_hand_landmarks.landmark]).flatten() if results.left_hand_landmarks else np.zeros(63)\n",
    "    rh = np.array([[res.x,res.y,res.z] for res in results.right_hand_landmarks.landmark]).flatten() if results.right_hand_landmarks else np.zeros(63)\n",
    "    return np.concatenate([lh, rh])"
   ]
  },
  {
   "cell_type": "markdown",
   "id": "7cb1dd53",
   "metadata": {},
   "source": [
    "# 오른 손 65y좌표, 오른 어깨 49"
   ]
  },
  {
   "cell_type": "code",
   "execution_count": null,
   "id": "6364c8a6",
   "metadata": {},
   "outputs": [
    {
     "name": "stdout",
     "output_type": "stream",
     "text": [
      "1.662654161453247 0.5904155373573303 1.381731629371643 0.6779868602752686\n",
      "0.973514974117279 0.34214258193969727 1.020891547203064 0.3863603174686432\n",
      "0.9215455651283264 0.35841092467308044 0.9255971908569336 0.38409623503685\n",
      "0.8730152249336243 0.3891821801662445 0.8837199807167053 0.4004228413105011\n",
      "0.7894724607467651 0.3745478689670563 0.7867604494094849 0.39728453755378723\n",
      "hand_up\n",
      "0.7285807132720947 0.3757840394973755 0.7867773175239563 0.3917831778526306\n",
      "hand_up\n",
      "0.7210670113563538 0.37985554337501526 0.7224101424217224 0.39029660820961\n",
      "hand_up\n",
      "0.7226210236549377 0.3764875531196594 0.8819219470024109 0.3963669538497925\n",
      "right_hand_up\n",
      "0.8730165958404541 0.3782421052455902 0.8879870772361755 0.40036535263061523\n",
      "0.8667680025100708 0.3804735243320465 0.7872317433357239 0.4004860818386078\n",
      "left_hand_up\n",
      "0.8704490065574646 0.3859878182411194 0.6394276022911072 0.4007382094860077\n",
      "left_hand_up\n",
      "1.4189083576202393 0.7005403637886047 1.0676891803741455 0.6124204993247986\n",
      "0.895071804523468 0.3702114522457123 0.9147881865501404 0.3902837336063385\n",
      "0.8150659799575806 0.3707658350467682 0.8071405291557312 0.3912196755409241\n",
      "0.7645732760429382 0.36910760402679443 0.73466557264328 0.38600778579711914\n",
      "hand_up\n",
      "0.6074978113174438 0.3768233358860016 0.6309816241264343 0.3906463086605072\n",
      "hand_up\n",
      "0.4985329210758209 0.3794718086719513 0.49754390120506287 0.39298492670059204\n",
      "hand_up\n",
      "0.8767716288566589 0.37976083159446716 0.9041626453399658 0.40037038922309875\n",
      "0.8460407853126526 0.3769894540309906 0.8334405422210693 0.39579612016677856\n",
      "0.8133386373519897 0.3776095509529114 0.8022352457046509 0.39587271213531494\n",
      "0.7681963443756104 0.3739173114299774 0.7564563155174255 0.39446061849594116\n",
      "hand_up\n",
      "0.8341954946517944 0.37910428643226624 0.8162410259246826 0.3939661681652069\n",
      "0.8375815749168396 0.376870334148407 0.8101850152015686 0.39602598547935486\n",
      "0.8339790105819702 0.3779573440551758 0.8035532236099243 0.3987291157245636\n",
      "1.1846524477005005 0.44620898365974426 1.1354960203170776 0.49769848585128784\n",
      "1.2130088806152344 0.4491053521633148 1.1089248657226562 0.435474693775177\n",
      "0.7985360026359558 0.4184982180595398 0.7731665372848511 0.4166894853115082\n",
      "hand_up\n",
      "0.859423816204071 0.38721421360969543 0.8595821857452393 0.397787481546402\n",
      "0.7907205820083618 0.3879421353340149 0.7730181217193604 0.40119969844818115\n",
      "hand_up\n",
      "0.8634382486343384 0.3894116282463074 0.8579791784286499 0.4054698944091797\n",
      "0.8649337291717529 0.3895130753517151 0.8658991456031799 0.40750056505203247\n",
      "0.6270588040351868 0.39114144444465637 0.8549620509147644 0.4054231345653534\n",
      "right_hand_up\n",
      "0.7072931528091431 0.388151079416275 0.8556085824966431 0.41246509552001953\n",
      "right_hand_up\n",
      "0.8568443655967712 0.39086422324180603 0.8565780520439148 0.41081884503364563\n"
     ]
    }
   ],
   "source": [
    "cap = cv2.VideoCapture(0)\n",
    "\n",
    "i = 0\n",
    "#Set mediapipe model\n",
    "with mp_holistic.Holistic(min_detection_confidence=0.5, min_tracking_confidence=0.5) as holistic:\n",
    "    while cap.isOpened():\n",
    "\n",
    "        # feed 읽기\n",
    "        ret, frame = cap.read()\n",
    "        \n",
    "        #detections 만들기\n",
    "        image, results = mediapipe_detection(frame, holistic)\n",
    "        \n",
    "        #랜드마크 그리기\n",
    "        draw_landmarks(image,results)\n",
    "        if i%30 ==0:\n",
    "            keypoint = extract_keypoints_pose(results)\n",
    "            print(keypoint[65],keypoint[49],keypoint[61],keypoint[45])\n",
    "            if keypoint[65]<0.8 and keypoint[61]<0.8:\n",
    "                print(\"hand_up\")\n",
    "            elif keypoint[65]<0.8:\n",
    "                print(\"right_hand_up\")\n",
    "            elif keypoint[61]<0.8:\n",
    "                print(\"left_hand_up\")\n",
    "            \n",
    "        #화면에 보여주기\n",
    "        cv2.imshow(\"OpenCV Feed\",image)\n",
    "        i += 1\n",
    "        #화면 종료\n",
    "        if cv2.waitKey(10) & 0xFF == ord('q'):\n",
    "            break\n",
    "    cap.release()\n",
    "    cv2.destroyAllWindows()"
   ]
  },
  {
   "cell_type": "code",
   "execution_count": 6,
   "id": "1225734a",
   "metadata": {},
   "outputs": [
    {
     "data": {
      "text/plain": [
       "132"
      ]
     },
     "execution_count": 6,
     "metadata": {},
     "output_type": "execute_result"
    }
   ],
   "source": [
    "len(keypoint)"
   ]
  },
  {
   "cell_type": "code",
   "execution_count": null,
   "id": "6a87e5b2",
   "metadata": {},
   "outputs": [],
   "source": []
  }
 ],
 "metadata": {
  "kernelspec": {
   "display_name": "Python 3 (ipykernel)",
   "language": "python",
   "name": "python3"
  },
  "language_info": {
   "codemirror_mode": {
    "name": "ipython",
    "version": 3
   },
   "file_extension": ".py",
   "mimetype": "text/x-python",
   "name": "python",
   "nbconvert_exporter": "python",
   "pygments_lexer": "ipython3",
   "version": "3.8.8"
  }
 },
 "nbformat": 4,
 "nbformat_minor": 5
}
